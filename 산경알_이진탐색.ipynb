{
  "nbformat": 4,
  "nbformat_minor": 0,
  "metadata": {
    "colab": {
      "provenance": [],
      "authorship_tag": "ABX9TyPqaTwaNK+QeAyYAj4/fX6r",
      "include_colab_link": true
    },
    "kernelspec": {
      "name": "python3",
      "display_name": "Python 3"
    },
    "language_info": {
      "name": "python"
    }
  },
  "cells": [
    {
      "cell_type": "markdown",
      "metadata": {
        "id": "view-in-github",
        "colab_type": "text"
      },
      "source": [
        "<a href=\"https://colab.research.google.com/github/hee3479/joo-hee-blog/blob/main/%EC%82%B0%EA%B2%BD%EC%95%8C_%EC%9D%B4%EC%A7%84%ED%83%90%EC%83%89.ipynb\" target=\"_parent\"><img src=\"https://colab.research.google.com/assets/colab-badge.svg\" alt=\"Open In Colab\"/></a>"
      ]
    },
    {
      "cell_type": "code",
      "execution_count": 72,
      "metadata": {
        "colab": {
          "base_uri": "https://localhost:8080/"
        },
        "id": "75JtCbfB_U8m",
        "outputId": "fc2fc19f-d85c-4ae4-ae7e-d652c422e81a"
      },
      "outputs": [
        {
          "output_type": "stream",
          "name": "stdout",
          "text": [
            "찾는 문자 :  7946\n",
            "컴퓨터가 13번만에 정답을 찾았습니다. \n",
            "컴퓨터가 총 12번 실패했습니다.\n"
          ]
        }
      ],
      "source": [
        "import random\n",
        "def binary_search(list, item):\n",
        "  low = 0\n",
        "  high = len(list)-1\n",
        "  fail_count = 0\n",
        "  print(\"찾는 문자 : \", item)\n",
        "\n",
        "  count = 0\n",
        "  while low <=high:\n",
        "    count += 1\n",
        "    mid = int((low + high) / 2)\n",
        "    guess = list[mid]\n",
        "\n",
        "    if guess == item:\n",
        "      print(f\"컴퓨터가 {fail_count+1}번만에 정답을 찾았습니다. \")\n",
        "      if fail_count > 0:  # 실패 횟수가 0보다 크면 출력\n",
        "          print(f\"컴퓨터가 총 {fail_count}번 실패했습니다.\")\n",
        "      return\n",
        "\n",
        "    if guess > item:\n",
        "        high = mid -1\n",
        "    else:\n",
        "        low = mid + 1\n",
        "\n",
        "    fail_count += 1\n",
        "\n",
        "\n",
        "number = list(range(1,10000))\n",
        "random_number = random.choice(number)\n",
        "guess = binary_search(number, random_number)"
      ]
    },
    {
      "cell_type": "code",
      "source": [
        "def binary_search(list, item):\n",
        "  low = 0\n",
        "  high = len(list)-1\n",
        "  while low <=high:\n",
        "    mid = int((low + high) / 2)\n",
        "    guess = list[mid]\n",
        "    if guess == item:\n",
        "      return mid\n",
        "    if guess > item:\n",
        "      high = mid -1\n",
        "    else:\n",
        "      low = mid + 1\n",
        "  return None\n",
        "\n",
        "my_list = [1,3,5,7,9]\n",
        "\n",
        "print (binary_search(my_list, 3))\n",
        "print (binary_search(my_list, -1))\n"
      ],
      "metadata": {
        "colab": {
          "base_uri": "https://localhost:8080/"
        },
        "id": "VfCDftE7AOxK",
        "outputId": "cad9d6e6-0c77-40d8-a456-d86432372975"
      },
      "execution_count": 82,
      "outputs": [
        {
          "output_type": "stream",
          "name": "stdout",
          "text": [
            "1\n",
            "None\n"
          ]
        }
      ]
    },
    {
      "cell_type": "code",
      "source": [],
      "metadata": {
        "id": "vB3B8OcqMtZV"
      },
      "execution_count": null,
      "outputs": []
    }
  ]
}