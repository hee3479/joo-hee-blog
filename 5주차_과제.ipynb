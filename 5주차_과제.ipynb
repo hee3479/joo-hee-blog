{
  "nbformat": 4,
  "nbformat_minor": 0,
  "metadata": {
    "colab": {
      "provenance": [],
      "authorship_tag": "ABX9TyOqW0Iu8LGEHtJabCzCKnoE",
      "include_colab_link": true
    },
    "kernelspec": {
      "name": "python3",
      "display_name": "Python 3"
    },
    "language_info": {
      "name": "python"
    }
  },
  "cells": [
    {
      "cell_type": "markdown",
      "metadata": {
        "id": "view-in-github",
        "colab_type": "text"
      },
      "source": [
        "<a href=\"https://colab.research.google.com/github/hee3479/joo-hee-blog/blob/main/5%EC%A3%BC%EC%B0%A8_%EA%B3%BC%EC%A0%9C.ipynb\" target=\"_parent\"><img src=\"https://colab.research.google.com/assets/colab-badge.svg\" alt=\"Open In Colab\"/></a>"
      ]
    },
    {
      "cell_type": "code",
      "execution_count": 1,
      "metadata": {
        "colab": {
          "base_uri": "https://localhost:8080/"
        },
        "id": "wOdq4jr31Dw6",
        "outputId": "856859a1-c78b-41f8-b100-8ce5c14d914f"
      },
      "outputs": [
        {
          "output_type": "stream",
          "name": "stdout",
          "text": [
            "첫 번째 수를 입력하세요: 5\n",
            "두 번째 수를 입력하세요: 20\n",
            "5와 20의 최대공약수는 5입니다.\n"
          ]
        }
      ],
      "source": [
        "def gcd(a, b):\n",
        "    if b == 0:\n",
        "        return a\n",
        "    else:\n",
        "        return gcd(b, a % b)\n",
        "\n",
        "# 두 수 입력 받기\n",
        "a = int(input(\"첫 번째 수를 입력하세요: \"))\n",
        "b = int(input(\"두 번째 수를 입력하세요: \"))\n",
        "\n",
        "# 최대공약수 출력\n",
        "print(f\"{a}와 {b}의 최대공약수는 {gcd(a, b)}입니다.\")"
      ]
    },
    {
      "cell_type": "code",
      "source": [],
      "metadata": {
        "id": "vTjynep61K1h"
      },
      "execution_count": null,
      "outputs": []
    }
  ]
}