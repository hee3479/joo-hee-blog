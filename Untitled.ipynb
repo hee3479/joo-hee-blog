{
  "nbformat": 4,
  "nbformat_minor": 0,
  "metadata": {
    "colab": {
      "provenance": [],
      "authorship_tag": "ABX9TyMUdWMGqTPsTFWh7jP/2DrM",
      "include_colab_link": true
    },
    "kernelspec": {
      "name": "python3",
      "display_name": "Python 3"
    },
    "language_info": {
      "name": "python"
    }
  },
  "cells": [
    {
      "cell_type": "markdown",
      "metadata": {
        "id": "view-in-github",
        "colab_type": "text"
      },
      "source": [
        "<a href=\"https://colab.research.google.com/github/hee3479/joo-hee-blog/blob/main/Untitled.ipynb\" target=\"_parent\"><img src=\"https://colab.research.google.com/assets/colab-badge.svg\" alt=\"Open In Colab\"/></a>"
      ]
    },
    {
      "cell_type": "code",
      "execution_count": 2,
      "metadata": {
        "colab": {
          "base_uri": "https://localhost:8080/"
        },
        "id": "UokQhfJhxrAW",
        "outputId": "98affb22-6218-4318-f9d0-df712da0019b"
      },
      "outputs": [
        {
          "output_type": "stream",
          "name": "stdout",
          "text": [
            "정렬전: [3, 7, 195, 73, 96, 109, 160, 121, 177, 81]\n",
            "버블정렬: [195, 177, 160, 121, 109, 96, 81, 73, 7, 3]\n"
          ]
        }
      ],
      "source": [
        "import random\n",
        "\n",
        "# 0~200 사이의 서로 다른 숫자 10개 생성\n",
        "numbers = random.sample(range(201), 10)\n",
        "\n",
        "# 버블 정렬 (내림차순)\n",
        "def bubble_sort_desc(arr):\n",
        "    for i in range(len(arr)):\n",
        "        for j in range(len(arr) - i - 1):\n",
        "            if arr[j] < arr[j + 1]:\n",
        "                arr[j], arr[j + 1] = arr[j + 1], arr[j]\n",
        "    return arr\n",
        "\n",
        "print(\"정렬전:\", numbers)\n",
        "print(\"버블정렬:\", bubble_sort_desc(numbers.copy()))"
      ]
    },
    {
      "cell_type": "code",
      "source": [
        "import random\n",
        "\n",
        "# 0~200 사이의 서로 다른 숫자 10개 생성\n",
        "numbers = random.sample(range(201), 10)\n",
        "\n",
        "\n",
        "# 삽입 정렬 (내림차순)\n",
        "def insertion_sort_desc(arr):\n",
        "    for i in range(1, len(arr)):\n",
        "        key = arr[i]\n",
        "        j = i - 1\n",
        "        while j >= 0 and arr[j] < key:\n",
        "            arr[j + 1] = arr[j]\n",
        "            j -= 1\n",
        "        arr[j + 1] = key\n",
        "    return arr\n",
        "\n",
        "print(\"정렬전:\", numbers)\n",
        "print(\"삽입정렬:\", insertion_sort_desc(numbers.copy()))"
      ],
      "metadata": {
        "colab": {
          "base_uri": "https://localhost:8080/"
        },
        "id": "Y8vDUHOYzeUT",
        "outputId": "6a52c2e7-8040-424f-c146-af0d0e9f7d48"
      },
      "execution_count": 3,
      "outputs": [
        {
          "output_type": "stream",
          "name": "stdout",
          "text": [
            "정렬전: [56, 1, 170, 8, 181, 108, 92, 9, 81, 3]\n",
            "삽입정렬: [181, 170, 108, 92, 81, 56, 9, 8, 3, 1]\n"
          ]
        }
      ]
    },
    {
      "cell_type": "code",
      "source": [
        "import random\n",
        "\n",
        "# 0~200 사이의 서로 다른 숫자 10개 생성\n",
        "numbers = random.sample(range(201), 10)\n",
        "\n",
        "\n",
        "# 버블 정렬 (내림차순)\n",
        "def bubble_sort_desc(arr):\n",
        "    for i in range(len(arr)):\n",
        "        for j in range(len(arr) - i - 1):\n",
        "            if arr[j] < arr[j + 1]:\n",
        "                arr[j], arr[j + 1] = arr[j + 1], arr[j]\n",
        "    return arr\n",
        "\n",
        "# 삽입 정렬 (내림차순)\n",
        "def insertion_sort_desc(arr):\n",
        "    for i in range(1, len(arr)):\n",
        "        key = arr[i]\n",
        "        j = i - 1\n",
        "        while j >= 0 and arr[j] < key:\n",
        "            arr[j + 1] = arr[j]\n",
        "            j -= 1\n",
        "        arr[j + 1] = key\n",
        "    return arr\n",
        "\n",
        "print(\"정렬전:\", numbers)\n",
        "print(\"버블정렬:\", bubble_sort_desc(numbers.copy()))\n",
        "print(\"삽입정렬:\", insertion_sort_desc(numbers.copy()))"
      ],
      "metadata": {
        "colab": {
          "base_uri": "https://localhost:8080/"
        },
        "id": "Ou2ikTMNzxgL",
        "outputId": "666ad837-d6eb-4cc3-a923-48eacc511ede"
      },
      "execution_count": 4,
      "outputs": [
        {
          "output_type": "stream",
          "name": "stdout",
          "text": [
            "정렬전: [121, 84, 72, 19, 183, 31, 166, 16, 74, 21]\n",
            "버블정렬: [183, 166, 121, 84, 74, 72, 31, 21, 19, 16]\n",
            "삽입정렬: [183, 166, 121, 84, 74, 72, 31, 21, 19, 16]\n"
          ]
        }
      ]
    },
    {
      "cell_type": "code",
      "source": [],
      "metadata": {
        "id": "qW4ItI7Tz-rg"
      },
      "execution_count": null,
      "outputs": []
    }
  ]
}